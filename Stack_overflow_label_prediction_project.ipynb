{
  "cells": [
    {
      "cell_type": "markdown",
      "metadata": {
        "id": "view-in-github",
        "colab_type": "text"
      },
      "source": [
        "<a href=\"https://colab.research.google.com/github/ishika9/Stack-Overflow-tag-prediction/blob/main/Stack_overflow_label_prediction_project.ipynb\" target=\"_parent\"><img src=\"https://colab.research.google.com/assets/colab-badge.svg\" alt=\"Open In Colab\"/></a>"
      ]
    },
    {
      "cell_type": "markdown",
      "metadata": {
        "id": "fZonrJSdKIDa"
      },
      "source": [
        "### IMPORTING LIBRARIES"
      ]
    },
    {
      "cell_type": "code",
      "execution_count": null,
      "metadata": {
        "id": "ZhQQH--xKIDh",
        "trusted": true
      },
      "outputs": [],
      "source": [
        "import numpy as np\n",
        "import pandas as pd\n",
        "import string\n",
        "import nltk"
      ]
    },
    {
      "cell_type": "code",
      "execution_count": null,
      "metadata": {
        "colab": {
          "base_uri": "https://localhost:8080/"
        },
        "id": "iTolEO4HLRuO",
        "outputId": "46e1e5d5-f44e-4e8f-e437-d0280d54efdd"
      },
      "outputs": [
        {
          "name": "stdout",
          "output_type": "stream",
          "text": [
            "Mounted at /content/drive\n"
          ]
        }
      ],
      "source": [
        "# from google.colab import drive\n",
        "# drive.mount('/content/drive')"
      ]
    },
    {
      "cell_type": "markdown",
      "metadata": {
        "id": "NBlkYf5WKIDj"
      },
      "source": [
        "### READING THE DATA"
      ]
    },
    {
      "cell_type": "code",
      "execution_count": null,
      "metadata": {
        "id": "bRQtOSwFKIDj",
        "trusted": true
      },
      "outputs": [],
      "source": [
        "question= pd.read_csv('Questions.csv', encoding='latin')\n",
        "tags= pd.read_csv('Tags.csv', encoding='latin')"
      ]
    },
    {
      "cell_type": "code",
      "execution_count": null,
      "metadata": {
        "colab": {
          "base_uri": "https://localhost:8080/",
          "height": 337
        },
        "id": "KGadw0OHKIDk",
        "outputId": "8387381d-0bd2-4044-ea77-e205987e730e",
        "trusted": true
      },
      "outputs": [
        {
          "data": {
            "text/html": [
              "<div>\n",
              "<style scoped>\n",
              "    .dataframe tbody tr th:only-of-type {\n",
              "        vertical-align: middle;\n",
              "    }\n",
              "\n",
              "    .dataframe tbody tr th {\n",
              "        vertical-align: top;\n",
              "    }\n",
              "\n",
              "    .dataframe thead th {\n",
              "        text-align: right;\n",
              "    }\n",
              "</style>\n",
              "<table border=\"1\" class=\"dataframe\">\n",
              "  <thead>\n",
              "    <tr style=\"text-align: right;\">\n",
              "      <th></th>\n",
              "      <th>Id</th>\n",
              "      <th>OwnerUserId</th>\n",
              "      <th>CreationDate</th>\n",
              "      <th>ClosedDate</th>\n",
              "      <th>Score</th>\n",
              "      <th>Title</th>\n",
              "      <th>Body</th>\n",
              "    </tr>\n",
              "  </thead>\n",
              "  <tbody>\n",
              "    <tr>\n",
              "      <th>0</th>\n",
              "      <td>80</td>\n",
              "      <td>26.0</td>\n",
              "      <td>2008-08-01T13:57:07Z</td>\n",
              "      <td>NaN</td>\n",
              "      <td>26</td>\n",
              "      <td>SQLStatement.execute() - multiple queries in o...</td>\n",
              "      <td>&lt;p&gt;I've written a database generation script i...</td>\n",
              "    </tr>\n",
              "    <tr>\n",
              "      <th>1</th>\n",
              "      <td>90</td>\n",
              "      <td>58.0</td>\n",
              "      <td>2008-08-01T14:41:24Z</td>\n",
              "      <td>2012-12-26T03:45:49Z</td>\n",
              "      <td>144</td>\n",
              "      <td>Good branching and merging tutorials for Torto...</td>\n",
              "      <td>&lt;p&gt;Are there any really good tutorials explain...</td>\n",
              "    </tr>\n",
              "    <tr>\n",
              "      <th>2</th>\n",
              "      <td>120</td>\n",
              "      <td>83.0</td>\n",
              "      <td>2008-08-01T15:50:08Z</td>\n",
              "      <td>NaN</td>\n",
              "      <td>21</td>\n",
              "      <td>ASP.NET Site Maps</td>\n",
              "      <td>&lt;p&gt;Has anyone got experience creating &lt;strong&gt;...</td>\n",
              "    </tr>\n",
              "    <tr>\n",
              "      <th>3</th>\n",
              "      <td>180</td>\n",
              "      <td>2089740.0</td>\n",
              "      <td>2008-08-01T18:42:19Z</td>\n",
              "      <td>NaN</td>\n",
              "      <td>53</td>\n",
              "      <td>Function for creating color wheels</td>\n",
              "      <td>&lt;p&gt;This is something I've pseudo-solved many t...</td>\n",
              "    </tr>\n",
              "    <tr>\n",
              "      <th>4</th>\n",
              "      <td>260</td>\n",
              "      <td>91.0</td>\n",
              "      <td>2008-08-01T23:22:08Z</td>\n",
              "      <td>NaN</td>\n",
              "      <td>49</td>\n",
              "      <td>Adding scripting functionality to .NET applica...</td>\n",
              "      <td>&lt;p&gt;I have a little game written in C#. It uses...</td>\n",
              "    </tr>\n",
              "  </tbody>\n",
              "</table>\n",
              "</div>"
            ],
            "text/plain": [
              "    Id  OwnerUserId          CreationDate            ClosedDate  Score  \\\n",
              "0   80         26.0  2008-08-01T13:57:07Z                   NaN     26   \n",
              "1   90         58.0  2008-08-01T14:41:24Z  2012-12-26T03:45:49Z    144   \n",
              "2  120         83.0  2008-08-01T15:50:08Z                   NaN     21   \n",
              "3  180    2089740.0  2008-08-01T18:42:19Z                   NaN     53   \n",
              "4  260         91.0  2008-08-01T23:22:08Z                   NaN     49   \n",
              "\n",
              "                                               Title  \\\n",
              "0  SQLStatement.execute() - multiple queries in o...   \n",
              "1  Good branching and merging tutorials for Torto...   \n",
              "2                                  ASP.NET Site Maps   \n",
              "3                 Function for creating color wheels   \n",
              "4  Adding scripting functionality to .NET applica...   \n",
              "\n",
              "                                                Body  \n",
              "0  <p>I've written a database generation script i...  \n",
              "1  <p>Are there any really good tutorials explain...  \n",
              "2  <p>Has anyone got experience creating <strong>...  \n",
              "3  <p>This is something I've pseudo-solved many t...  \n",
              "4  <p>I have a little game written in C#. It uses...  "
            ]
          },
          "execution_count": 3,
          "metadata": {},
          "output_type": "execute_result"
        }
      ],
      "source": [
        "question.head()"
      ]
    },
    {
      "cell_type": "code",
      "execution_count": null,
      "metadata": {
        "colab": {
          "base_uri": "https://localhost:8080/",
          "height": 206
        },
        "id": "0GxTzjFcKIDm",
        "outputId": "2c62dbfb-dfc7-4267-87c8-98afdb1c17e1",
        "trusted": true
      },
      "outputs": [
        {
          "data": {
            "text/html": [
              "<div>\n",
              "<style scoped>\n",
              "    .dataframe tbody tr th:only-of-type {\n",
              "        vertical-align: middle;\n",
              "    }\n",
              "\n",
              "    .dataframe tbody tr th {\n",
              "        vertical-align: top;\n",
              "    }\n",
              "\n",
              "    .dataframe thead th {\n",
              "        text-align: right;\n",
              "    }\n",
              "</style>\n",
              "<table border=\"1\" class=\"dataframe\">\n",
              "  <thead>\n",
              "    <tr style=\"text-align: right;\">\n",
              "      <th></th>\n",
              "      <th>Id</th>\n",
              "      <th>Tag</th>\n",
              "    </tr>\n",
              "  </thead>\n",
              "  <tbody>\n",
              "    <tr>\n",
              "      <th>0</th>\n",
              "      <td>80</td>\n",
              "      <td>flex</td>\n",
              "    </tr>\n",
              "    <tr>\n",
              "      <th>1</th>\n",
              "      <td>80</td>\n",
              "      <td>actionscript-3</td>\n",
              "    </tr>\n",
              "    <tr>\n",
              "      <th>2</th>\n",
              "      <td>80</td>\n",
              "      <td>air</td>\n",
              "    </tr>\n",
              "    <tr>\n",
              "      <th>3</th>\n",
              "      <td>90</td>\n",
              "      <td>svn</td>\n",
              "    </tr>\n",
              "    <tr>\n",
              "      <th>4</th>\n",
              "      <td>90</td>\n",
              "      <td>tortoisesvn</td>\n",
              "    </tr>\n",
              "  </tbody>\n",
              "</table>\n",
              "</div>"
            ],
            "text/plain": [
              "   Id             Tag\n",
              "0  80            flex\n",
              "1  80  actionscript-3\n",
              "2  80             air\n",
              "3  90             svn\n",
              "4  90     tortoisesvn"
            ]
          },
          "execution_count": 4,
          "metadata": {},
          "output_type": "execute_result"
        }
      ],
      "source": [
        "tags.head()"
      ]
    },
    {
      "cell_type": "code",
      "execution_count": null,
      "metadata": {
        "colab": {
          "base_uri": "https://localhost:8080/"
        },
        "id": "goopBOQmKIDm",
        "outputId": "389341bd-56e7-4357-99b7-9feb2bd0e0b0",
        "trusted": true
      },
      "outputs": [
        {
          "name": "stdout",
          "output_type": "stream",
          "text": [
            "(1264216, 7) (3750994, 2)\n"
          ]
        }
      ],
      "source": [
        "print(question.shape,tags.shape)"
      ]
    },
    {
      "cell_type": "code",
      "execution_count": null,
      "metadata": {
        "colab": {
          "base_uri": "https://localhost:8080/"
        },
        "id": "g3-aL_ANKIDn",
        "outputId": "8385c134-6ebe-4a6b-82fb-f26c25dd8c31",
        "trusted": true
      },
      "outputs": [
        {
          "name": "stdout",
          "output_type": "stream",
          "text": [
            "1264216 1264216\n"
          ]
        }
      ],
      "source": [
        "print(question.Id.nunique(), tags.Id.nunique())"
      ]
    },
    {
      "cell_type": "markdown",
      "metadata": {
        "id": "iBBQk4OJKIDp"
      },
      "source": [
        "### MERGING THE DATA FRAMES"
      ]
    },
    {
      "cell_type": "code",
      "execution_count": null,
      "metadata": {
        "colab": {
          "base_uri": "https://localhost:8080/"
        },
        "id": "bq1LluHkKIDq",
        "outputId": "7c5793b6-8400-4051-ccb6-0f1bc5f2fceb",
        "trusted": true
      },
      "outputs": [
        {
          "name": "stdout",
          "output_type": "stream",
          "text": [
            "                                                Tag\n",
            "Id                                                 \n",
            "80                          flex actionscript-3 air\n",
            "90     svn tortoisesvn branch branching-and-merging\n",
            "120                             sql asp.net sitemap\n",
            "180  algorithm language-agnostic colors color-space\n",
            "260         c# .net scripting compiler-construction\n",
            "                                                   Tag\n",
            "Id                                                    \n",
            "80                         [flex, actionscript-3, air]\n",
            "90   [svn, tortoisesvn, branch, branching-and-merging]\n",
            "120                            [sql, asp.net, sitemap]\n",
            "180  [algorithm, language-agnostic, colors, color-s...\n",
            "260       [c#, .net, scripting, compiler-construction]\n"
          ]
        }
      ],
      "source": [
        "tags['Tag']= tags['Tag'].astype(str)\n",
        "grouped_tags = pd.DataFrame(tags.groupby(\"Id\")['Tag'].apply(lambda tags: ' '.join(tags)))\n",
        "grouped_tags.columns= ['Tag']\n",
        "print(grouped_tags.head())\n",
        "grouped_tags['Tag']= grouped_tags['Tag'].astype(str)\n",
        "grouped_tags['Tag']= grouped_tags['Tag'].apply(lambda x: x.split())\n",
        "# grouped_tags= grouped_tags.to_frame()\n",
        "grouped_tags= grouped_tags.sort_values(by='Id')\n",
        "print(grouped_tags.head())"
      ]
    },
    {
      "cell_type": "code",
      "execution_count": null,
      "metadata": {
        "id": "OTTTnE_cPG-U"
      },
      "outputs": [],
      "source": [
        "grouped_tags1 = grouped_tags"
      ]
    },
    {
      "cell_type": "code",
      "execution_count": null,
      "metadata": {
        "id": "vmf_MMtfPqIM"
      },
      "outputs": [],
      "source": [
        "grouped_tags = grouped_tags1"
      ]
    },
    {
      "cell_type": "code",
      "execution_count": null,
      "metadata": {
        "colab": {
          "base_uri": "https://localhost:8080/"
        },
        "id": "q3S6s_YvNgaM",
        "outputId": "005e831c-8146-4708-fe11-60149d808f15"
      },
      "outputs": [
        {
          "data": {
            "text/plain": [
              "['javascript',\n",
              " 'java',\n",
              " 'c#',\n",
              " 'php',\n",
              " 'android',\n",
              " 'jquery',\n",
              " 'python',\n",
              " 'html',\n",
              " 'c++',\n",
              " 'ios',\n",
              " 'mysql',\n",
              " 'css',\n",
              " 'sql',\n",
              " 'asp.net',\n",
              " 'objective-c',\n",
              " 'ruby-on-rails',\n",
              " '.net',\n",
              " 'c',\n",
              " 'iphone',\n",
              " 'angularjs']"
            ]
          },
          "execution_count": 62,
          "metadata": {},
          "output_type": "execute_result"
        }
      ],
      "source": [
        "flat_list = [item for sublist in grouped_tags['Tag'].values for item in sublist]\n",
        "\n",
        "keywords = nltk.FreqDist(flat_list)\n",
        "\n",
        "keywords = nltk.FreqDist(keywords)\n",
        "\n",
        "frequencies_words = keywords.most_common(100)\n",
        "tags_features = [word[0] for word in frequencies_words]\n",
        "tags_features"
      ]
    },
    {
      "cell_type": "code",
      "execution_count": null,
      "metadata": {
        "id": "9hXQKH2FOwlu"
      },
      "outputs": [],
      "source": [
        "def most_common(tags):\n",
        "    tags_filtered = []\n",
        "    for i in range(0, len(tags)):\n",
        "        if tags[i] in tags_features:\n",
        "            tags_filtered.append(tags[i])\n",
        "    return tags_filtered"
      ]
    },
    {
      "cell_type": "code",
      "execution_count": null,
      "metadata": {
        "id": "Ha5knlH2OxgX"
      },
      "outputs": [],
      "source": [
        "grouped_tags['Tag'] = grouped_tags['Tag'].apply(lambda x: most_common(x))\n",
        "grouped_tags['Tag'] = grouped_tags['Tag'].apply(lambda x: x if len(x)>0 else None)"
      ]
    },
    {
      "cell_type": "code",
      "execution_count": null,
      "metadata": {
        "id": "wkQYk4oLPeDf"
      },
      "outputs": [],
      "source": [
        "grouped_tags.dropna(subset=['Tag'], inplace=True)"
      ]
    },
    {
      "cell_type": "code",
      "execution_count": null,
      "metadata": {
        "colab": {
          "base_uri": "https://localhost:8080/"
        },
        "id": "BINif5eqKIDq",
        "outputId": "25fcbdfb-5348-4360-f149-c660e9f7019c",
        "trusted": true
      },
      "outputs": [
        {
          "name": "stdout",
          "output_type": "stream",
          "text": [
            "(850988, 2)\n"
          ]
        }
      ],
      "source": [
        "print(grouped_tags.shape)"
      ]
    },
    {
      "cell_type": "markdown",
      "metadata": {
        "id": "BZ84dbtrKIDr"
      },
      "source": [
        "1. Merging Question and grouped_answer dataframes to get df\n",
        "2. Merging df and grouped_answer dataframes to get df"
      ]
    },
    {
      "cell_type": "code",
      "execution_count": null,
      "metadata": {
        "id": "ffcqq2MVP0YT"
      },
      "outputs": [],
      "source": []
    },
    {
      "cell_type": "code",
      "execution_count": null,
      "metadata": {
        "id": "LyqFgXRuKIDr",
        "trusted": true
      },
      "outputs": [],
      "source": [
        "grouped_tags['Ids']= grouped_tags.index\n",
        "question.columns= ['Ids', 'OwnerUserId', 'CreationDate', 'ClosedDate', 'Score', 'Title',\n",
        "       'Body']\n",
        "question= question.sort_values(by='Ids')\n",
        "df= pd.merge(question,grouped_tags, on='Ids')"
      ]
    },
    {
      "cell_type": "code",
      "execution_count": null,
      "metadata": {
        "colab": {
          "base_uri": "https://localhost:8080/",
          "height": 337
        },
        "id": "bIFAhEObKIDr",
        "outputId": "0549138c-3b17-48b8-8f2d-810e9e706094",
        "trusted": true
      },
      "outputs": [
        {
          "data": {
            "text/html": [
              "<div>\n",
              "<style scoped>\n",
              "    .dataframe tbody tr th:only-of-type {\n",
              "        vertical-align: middle;\n",
              "    }\n",
              "\n",
              "    .dataframe tbody tr th {\n",
              "        vertical-align: top;\n",
              "    }\n",
              "\n",
              "    .dataframe thead th {\n",
              "        text-align: right;\n",
              "    }\n",
              "</style>\n",
              "<table border=\"1\" class=\"dataframe\">\n",
              "  <thead>\n",
              "    <tr style=\"text-align: right;\">\n",
              "      <th></th>\n",
              "      <th>Ids</th>\n",
              "      <th>OwnerUserId</th>\n",
              "      <th>CreationDate</th>\n",
              "      <th>ClosedDate</th>\n",
              "      <th>Score</th>\n",
              "      <th>Title</th>\n",
              "      <th>Body</th>\n",
              "      <th>Tag</th>\n",
              "    </tr>\n",
              "  </thead>\n",
              "  <tbody>\n",
              "    <tr>\n",
              "      <th>0</th>\n",
              "      <td>120</td>\n",
              "      <td>83.0</td>\n",
              "      <td>2008-08-01T15:50:08Z</td>\n",
              "      <td>NaN</td>\n",
              "      <td>21</td>\n",
              "      <td>ASP.NET Site Maps</td>\n",
              "      <td>&lt;p&gt;Has anyone got experience creating &lt;strong&gt;...</td>\n",
              "      <td>[sql, asp.net]</td>\n",
              "    </tr>\n",
              "    <tr>\n",
              "      <th>1</th>\n",
              "      <td>260</td>\n",
              "      <td>91.0</td>\n",
              "      <td>2008-08-01T23:22:08Z</td>\n",
              "      <td>NaN</td>\n",
              "      <td>49</td>\n",
              "      <td>Adding scripting functionality to .NET applica...</td>\n",
              "      <td>&lt;p&gt;I have a little game written in C#. It uses...</td>\n",
              "      <td>[c#, .net]</td>\n",
              "    </tr>\n",
              "    <tr>\n",
              "      <th>2</th>\n",
              "      <td>330</td>\n",
              "      <td>63.0</td>\n",
              "      <td>2008-08-02T02:51:36Z</td>\n",
              "      <td>NaN</td>\n",
              "      <td>29</td>\n",
              "      <td>Should I use nested classes in this case?</td>\n",
              "      <td>&lt;p&gt;I am working on a collection of classes use...</td>\n",
              "      <td>[c++]</td>\n",
              "    </tr>\n",
              "    <tr>\n",
              "      <th>3</th>\n",
              "      <td>470</td>\n",
              "      <td>71.0</td>\n",
              "      <td>2008-08-02T15:11:47Z</td>\n",
              "      <td>2016-03-26T05:23:29Z</td>\n",
              "      <td>13</td>\n",
              "      <td>Homegrown consumption of web services</td>\n",
              "      <td>&lt;p&gt;I've been writing a few web services for a ...</td>\n",
              "      <td>[.net]</td>\n",
              "    </tr>\n",
              "    <tr>\n",
              "      <th>4</th>\n",
              "      <td>650</td>\n",
              "      <td>143.0</td>\n",
              "      <td>2008-08-03T11:12:52Z</td>\n",
              "      <td>NaN</td>\n",
              "      <td>79</td>\n",
              "      <td>Automatically update version number</td>\n",
              "      <td>&lt;p&gt;I would like the version property of my app...</td>\n",
              "      <td>[c#]</td>\n",
              "    </tr>\n",
              "  </tbody>\n",
              "</table>\n",
              "</div>"
            ],
            "text/plain": [
              "   Ids  OwnerUserId          CreationDate            ClosedDate  Score  \\\n",
              "0  120         83.0  2008-08-01T15:50:08Z                   NaN     21   \n",
              "1  260         91.0  2008-08-01T23:22:08Z                   NaN     49   \n",
              "2  330         63.0  2008-08-02T02:51:36Z                   NaN     29   \n",
              "3  470         71.0  2008-08-02T15:11:47Z  2016-03-26T05:23:29Z     13   \n",
              "4  650        143.0  2008-08-03T11:12:52Z                   NaN     79   \n",
              "\n",
              "                                               Title  \\\n",
              "0                                  ASP.NET Site Maps   \n",
              "1  Adding scripting functionality to .NET applica...   \n",
              "2          Should I use nested classes in this case?   \n",
              "3              Homegrown consumption of web services   \n",
              "4                Automatically update version number   \n",
              "\n",
              "                                                Body             Tag  \n",
              "0  <p>Has anyone got experience creating <strong>...  [sql, asp.net]  \n",
              "1  <p>I have a little game written in C#. It uses...      [c#, .net]  \n",
              "2  <p>I am working on a collection of classes use...           [c++]  \n",
              "3  <p>I've been writing a few web services for a ...          [.net]  \n",
              "4  <p>I would like the version property of my app...            [c#]  "
            ]
          },
          "execution_count": 68,
          "metadata": {},
          "output_type": "execute_result"
        }
      ],
      "source": [
        "df.head()"
      ]
    },
    {
      "cell_type": "code",
      "execution_count": null,
      "metadata": {
        "colab": {
          "base_uri": "https://localhost:8080/"
        },
        "id": "92O6XIbXQcj5",
        "outputId": "1fa32406-d368-4c57-ae9a-64771429ffb9"
      },
      "outputs": [
        {
          "data": {
            "text/plain": [
              "(850988, 8)"
            ]
          },
          "execution_count": 69,
          "metadata": {},
          "output_type": "execute_result"
        }
      ],
      "source": [
        "df.shape"
      ]
    },
    {
      "cell_type": "markdown",
      "metadata": {
        "id": "9BJSOOqdKIDs"
      },
      "source": [
        "### REMOVING UNNECESSARY VARIABLES"
      ]
    },
    {
      "cell_type": "code",
      "execution_count": null,
      "metadata": {
        "colab": {
          "base_uri": "https://localhost:8080/",
          "height": 206
        },
        "id": "Wx_mR2gbKIDs",
        "outputId": "15631bd5-0afe-43de-c8bc-ab6bf666b26e",
        "trusted": true
      },
      "outputs": [
        {
          "data": {
            "text/html": [
              "<div>\n",
              "<style scoped>\n",
              "    .dataframe tbody tr th:only-of-type {\n",
              "        vertical-align: middle;\n",
              "    }\n",
              "\n",
              "    .dataframe tbody tr th {\n",
              "        vertical-align: top;\n",
              "    }\n",
              "\n",
              "    .dataframe thead th {\n",
              "        text-align: right;\n",
              "    }\n",
              "</style>\n",
              "<table border=\"1\" class=\"dataframe\">\n",
              "  <thead>\n",
              "    <tr style=\"text-align: right;\">\n",
              "      <th></th>\n",
              "      <th>Score</th>\n",
              "      <th>Title</th>\n",
              "      <th>Body</th>\n",
              "      <th>Tag</th>\n",
              "    </tr>\n",
              "  </thead>\n",
              "  <tbody>\n",
              "    <tr>\n",
              "      <th>0</th>\n",
              "      <td>21</td>\n",
              "      <td>ASP.NET Site Maps</td>\n",
              "      <td>&lt;p&gt;Has anyone got experience creating &lt;strong&gt;...</td>\n",
              "      <td>[sql, asp.net]</td>\n",
              "    </tr>\n",
              "    <tr>\n",
              "      <th>1</th>\n",
              "      <td>49</td>\n",
              "      <td>Adding scripting functionality to .NET applica...</td>\n",
              "      <td>&lt;p&gt;I have a little game written in C#. It uses...</td>\n",
              "      <td>[c#, .net]</td>\n",
              "    </tr>\n",
              "    <tr>\n",
              "      <th>2</th>\n",
              "      <td>29</td>\n",
              "      <td>Should I use nested classes in this case?</td>\n",
              "      <td>&lt;p&gt;I am working on a collection of classes use...</td>\n",
              "      <td>[c++]</td>\n",
              "    </tr>\n",
              "    <tr>\n",
              "      <th>3</th>\n",
              "      <td>13</td>\n",
              "      <td>Homegrown consumption of web services</td>\n",
              "      <td>&lt;p&gt;I've been writing a few web services for a ...</td>\n",
              "      <td>[.net]</td>\n",
              "    </tr>\n",
              "    <tr>\n",
              "      <th>4</th>\n",
              "      <td>79</td>\n",
              "      <td>Automatically update version number</td>\n",
              "      <td>&lt;p&gt;I would like the version property of my app...</td>\n",
              "      <td>[c#]</td>\n",
              "    </tr>\n",
              "  </tbody>\n",
              "</table>\n",
              "</div>"
            ],
            "text/plain": [
              "   Score                                              Title  \\\n",
              "0     21                                  ASP.NET Site Maps   \n",
              "1     49  Adding scripting functionality to .NET applica...   \n",
              "2     29          Should I use nested classes in this case?   \n",
              "3     13              Homegrown consumption of web services   \n",
              "4     79                Automatically update version number   \n",
              "\n",
              "                                                Body             Tag  \n",
              "0  <p>Has anyone got experience creating <strong>...  [sql, asp.net]  \n",
              "1  <p>I have a little game written in C#. It uses...      [c#, .net]  \n",
              "2  <p>I am working on a collection of classes use...           [c++]  \n",
              "3  <p>I've been writing a few web services for a ...          [.net]  \n",
              "4  <p>I would like the version property of my app...            [c#]  "
            ]
          },
          "execution_count": 70,
          "metadata": {},
          "output_type": "execute_result"
        }
      ],
      "source": [
        "df.drop(columns=['Ids', 'OwnerUserId', 'CreationDate', 'ClosedDate'],inplace=True)\n",
        "df.head()"
      ]
    },
    {
      "cell_type": "markdown",
      "metadata": {
        "id": "ZRTLvOUCKIDt"
      },
      "source": [
        "### FILTERING DATA BASED ON SCORE AND MOST FREQUENTLY USED TAGS"
      ]
    },
    {
      "cell_type": "code",
      "execution_count": null,
      "metadata": {
        "colab": {
          "base_uri": "https://localhost:8080/"
        },
        "id": "2_jDj4r0KIDu",
        "outputId": "30c32b41-1770-4ad3-f93c-889dc95eee77",
        "trusted": true
      },
      "outputs": [
        {
          "name": "stdout",
          "output_type": "stream",
          "text": [
            "-49 3613\n"
          ]
        }
      ],
      "source": [
        "print(df.Score.min(), df.Score.max())"
      ]
    },
    {
      "cell_type": "code",
      "execution_count": null,
      "metadata": {
        "colab": {
          "base_uri": "https://localhost:8080/"
        },
        "id": "thl_ra64KIDv",
        "outputId": "a4a2f28b-64c7-45a5-b097-7c697bbd2d93",
        "trusted": true
      },
      "outputs": [
        {
          "data": {
            "text/plain": [
              "(39714, 4)"
            ]
          },
          "execution_count": 75,
          "metadata": {},
          "output_type": "execute_result"
        }
      ],
      "source": [
        "# df1= df1[df1['Tag_count']>=500]\n",
        "df1= df[df['Score']>6]\n",
        "df1.shape"
      ]
    },
    {
      "cell_type": "markdown",
      "metadata": {
        "id": "hXNFp6aqKIDv"
      },
      "source": [
        "For better prediction we will be using only those tags which have been repeated for atleast 500 times and the score is more than 5. Low scores mean that the question is either erroneous or does not have sufficient information."
      ]
    },
    {
      "cell_type": "code",
      "execution_count": null,
      "metadata": {
        "colab": {
          "base_uri": "https://localhost:8080/"
        },
        "id": "0uz-ma98cGbz",
        "outputId": "c7a240ac-d279-4638-c63c-303a7df4f208"
      },
      "outputs": [
        {
          "data": {
            "text/plain": [
              "pandas.core.series.Series"
            ]
          },
          "execution_count": 76,
          "metadata": {},
          "output_type": "execute_result"
        }
      ],
      "source": [
        "type(df1['Tag'])"
      ]
    },
    {
      "cell_type": "code",
      "execution_count": null,
      "metadata": {
        "colab": {
          "base_uri": "https://localhost:8080/"
        },
        "id": "b2IfQgyni_gv",
        "outputId": "fd621c15-c6f8-463e-db51-2b2087683b47"
      },
      "outputs": [
        {
          "data": {
            "text/plain": [
              "0         [sql, asp.net]\n",
              "1             [c#, .net]\n",
              "2                  [c++]\n",
              "3                 [.net]\n",
              "4                   [c#]\n",
              "               ...      \n",
              "849386             [c++]\n",
              "849833             [c++]\n",
              "850049             [c++]\n",
              "850201          [python]\n",
              "850289          [python]\n",
              "Name: Tag, Length: 39714, dtype: object"
            ]
          },
          "execution_count": 77,
          "metadata": {},
          "output_type": "execute_result"
        }
      ],
      "source": [
        "df1['Tag']"
      ]
    },
    {
      "cell_type": "code",
      "execution_count": null,
      "metadata": {
        "id": "ssCH3kqBKIDv",
        "trusted": true
      },
      "outputs": [],
      "source": [
        "# df1.Tag.value_counts().sort_values(ascending=False)"
      ]
    },
    {
      "cell_type": "markdown",
      "metadata": {
        "id": "Jpu5N13GKIDv"
      },
      "source": [
        "### CHECKING FOR MISSING VALUES"
      ]
    },
    {
      "cell_type": "code",
      "execution_count": null,
      "metadata": {
        "colab": {
          "base_uri": "https://localhost:8080/"
        },
        "id": "tZFRKrFYKIDv",
        "outputId": "81154e02-6a9c-4440-b2e4-c7c810bc1e54",
        "trusted": true
      },
      "outputs": [
        {
          "name": "stdout",
          "output_type": "stream",
          "text": [
            "Score    0\n",
            "Title    0\n",
            "Body     0\n",
            "Tag      0\n",
            "dtype: int64\n",
            "Shape of df1: (39714, 4)\n"
          ]
        }
      ],
      "source": [
        "print(df1.isnull().sum())\n",
        "\n",
        "print('Shape of df1:',df1.shape)"
      ]
    },
    {
      "cell_type": "markdown",
      "metadata": {
        "id": "W3CREyggKIDw"
      },
      "source": [
        "### CLEANING THE TEXT FOR TITLE AND BODY"
      ]
    },
    {
      "cell_type": "markdown",
      "metadata": {
        "id": "pllLeU-DKIDw"
      },
      "source": [
        "1. Removing punctuation\n",
        "2. Removing HTML tags (if required)\n",
        "3. Changing text into lowercase\n",
        "4. Splitting the text into words\n",
        "5. Removing stopwords"
      ]
    },
    {
      "cell_type": "markdown",
      "metadata": {
        "id": "v0X0CQ2YKIDx"
      },
      "source": [
        "#### PUNCTUATION & HTML TAGS REMOVAL, LOWERCASE, WORD TOKENIZATION"
      ]
    },
    {
      "cell_type": "code",
      "execution_count": null,
      "metadata": {
        "id": "ybiO_Q6vqMZG"
      },
      "outputs": [],
      "source": [
        "import string\n",
        "def remove_punctuation(text):\n",
        "    for punctuation in string.punctuation:\n",
        "        text= text.replace(punctuation,'')\n",
        "    return text"
      ]
    },
    {
      "cell_type": "code",
      "execution_count": null,
      "metadata": {
        "colab": {
          "base_uri": "https://localhost:8080/"
        },
        "id": "y8VxQ2SjKIDx",
        "outputId": "d0928561-9264-4783-b5cd-296fbdf9ce20",
        "trusted": true
      },
      "outputs": [
        {
          "name": "stderr",
          "output_type": "stream",
          "text": [
            "C:\\Users\\Arihant\\AppData\\Local\\Temp\\ipykernel_17152\\435767400.py:1: SettingWithCopyWarning: \n",
            "A value is trying to be set on a copy of a slice from a DataFrame.\n",
            "Try using .loc[row_indexer,col_indexer] = value instead\n",
            "\n",
            "See the caveats in the documentation: https://pandas.pydata.org/pandas-docs/stable/user_guide/indexing.html#returning-a-view-versus-a-copy\n",
            "  df1['Title']= df1['Title'].astype(str)\n",
            "C:\\Users\\Arihant\\AppData\\Local\\Temp\\ipykernel_17152\\435767400.py:3: SettingWithCopyWarning: \n",
            "A value is trying to be set on a copy of a slice from a DataFrame.\n",
            "Try using .loc[row_indexer,col_indexer] = value instead\n",
            "\n",
            "See the caveats in the documentation: https://pandas.pydata.org/pandas-docs/stable/user_guide/indexing.html#returning-a-view-versus-a-copy\n",
            "  df1['Title1']= df1['Title'].apply(remove_punctuation)\n",
            "C:\\Users\\Arihant\\AppData\\Local\\Temp\\ipykernel_17152\\435767400.py:4: SettingWithCopyWarning: \n",
            "A value is trying to be set on a copy of a slice from a DataFrame.\n",
            "Try using .loc[row_indexer,col_indexer] = value instead\n",
            "\n",
            "See the caveats in the documentation: https://pandas.pydata.org/pandas-docs/stable/user_guide/indexing.html#returning-a-view-versus-a-copy\n",
            "  df1['Title1']=df1['Title1'].str.lower()\n",
            "C:\\Users\\Arihant\\AppData\\Local\\Temp\\ipykernel_17152\\435767400.py:5: SettingWithCopyWarning: \n",
            "A value is trying to be set on a copy of a slice from a DataFrame.\n",
            "Try using .loc[row_indexer,col_indexer] = value instead\n",
            "\n",
            "See the caveats in the documentation: https://pandas.pydata.org/pandas-docs/stable/user_guide/indexing.html#returning-a-view-versus-a-copy\n",
            "  df1['Title1']= df1['Title1'].str.split()\n"
          ]
        },
        {
          "data": {
            "text/plain": [
              "0                                 [aspnet, site, maps]\n",
              "1    [adding, scripting, functionality, to, net, ap...\n",
              "2    [should, i, use, nested, classes, in, this, case]\n",
              "3          [homegrown, consumption, of, web, services]\n",
              "4             [automatically, update, version, number]\n",
              "Name: Title1, dtype: object"
            ]
          },
          "execution_count": 81,
          "metadata": {},
          "output_type": "execute_result"
        }
      ],
      "source": [
        "df1['Title']= df1['Title'].astype(str)\n",
        "\n",
        "df1['Title1']= df1['Title'].apply(remove_punctuation)\n",
        "df1['Title1']=df1['Title1'].str.lower()\n",
        "df1['Title1']= df1['Title1'].str.split()\n",
        "df1['Title1'].head()"
      ]
    },
    {
      "cell_type": "code",
      "execution_count": null,
      "metadata": {
        "colab": {
          "base_uri": "https://localhost:8080/"
        },
        "id": "TkT0lyYBKIDx",
        "outputId": "9f024e8c-1927-47aa-cf71-57aeb9ffe7f2",
        "trusted": true
      },
      "outputs": [
        {
          "name": "stderr",
          "output_type": "stream",
          "text": [
            "C:\\Users\\Arihant\\AppData\\Local\\Temp\\ipykernel_17152\\1142757768.py:1: SettingWithCopyWarning: \n",
            "A value is trying to be set on a copy of a slice from a DataFrame.\n",
            "Try using .loc[row_indexer,col_indexer] = value instead\n",
            "\n",
            "See the caveats in the documentation: https://pandas.pydata.org/pandas-docs/stable/user_guide/indexing.html#returning-a-view-versus-a-copy\n",
            "  df1['Body']= df1['Body'].astype(str)\n",
            "C:\\Users\\Arihant\\AppData\\Local\\Temp\\ipykernel_17152\\1142757768.py:4: SettingWithCopyWarning: \n",
            "A value is trying to be set on a copy of a slice from a DataFrame.\n",
            "Try using .loc[row_indexer,col_indexer] = value instead\n",
            "\n",
            "See the caveats in the documentation: https://pandas.pydata.org/pandas-docs/stable/user_guide/indexing.html#returning-a-view-versus-a-copy\n",
            "  df1['Body1']= df1['Body'].apply(lambda x: re.sub('<[^<]+?>','',x))\n"
          ]
        },
        {
          "data": {
            "text/plain": [
              "0    Has anyone got experience creating SQL-based A...\n",
              "1    I have a little game written in C#. It uses a ...\n",
              "2    I am working on a collection of classes used f...\n",
              "3    I've been writing a few web services for a .ne...\n",
              "4    I would like the version property of my applic...\n",
              "Name: Body1, dtype: object"
            ]
          },
          "execution_count": 82,
          "metadata": {},
          "output_type": "execute_result"
        }
      ],
      "source": [
        "df1['Body']= df1['Body'].astype(str)\n",
        "import re\n",
        "\n",
        "df1['Body1']= df1['Body'].apply(lambda x: re.sub('<[^<]+?>','',x))\n",
        "df1['Body1'].head()"
      ]
    },
    {
      "cell_type": "code",
      "execution_count": null,
      "metadata": {
        "colab": {
          "base_uri": "https://localhost:8080/"
        },
        "id": "sbsB4iPnKIDy",
        "outputId": "06e88ffd-880d-40bd-cbeb-095a133a87aa",
        "trusted": true
      },
      "outputs": [
        {
          "name": "stderr",
          "output_type": "stream",
          "text": [
            "C:\\Users\\Arihant\\AppData\\Local\\Temp\\ipykernel_17152\\2773665156.py:1: SettingWithCopyWarning: \n",
            "A value is trying to be set on a copy of a slice from a DataFrame.\n",
            "Try using .loc[row_indexer,col_indexer] = value instead\n",
            "\n",
            "See the caveats in the documentation: https://pandas.pydata.org/pandas-docs/stable/user_guide/indexing.html#returning-a-view-versus-a-copy\n",
            "  df1['Body1']= df1['Body1'].apply(remove_punctuation)\n",
            "C:\\Users\\Arihant\\AppData\\Local\\Temp\\ipykernel_17152\\2773665156.py:2: SettingWithCopyWarning: \n",
            "A value is trying to be set on a copy of a slice from a DataFrame.\n",
            "Try using .loc[row_indexer,col_indexer] = value instead\n",
            "\n",
            "See the caveats in the documentation: https://pandas.pydata.org/pandas-docs/stable/user_guide/indexing.html#returning-a-view-versus-a-copy\n",
            "  df1['Body1']=df1['Body1'].str.lower()\n",
            "C:\\Users\\Arihant\\AppData\\Local\\Temp\\ipykernel_17152\\2773665156.py:3: SettingWithCopyWarning: \n",
            "A value is trying to be set on a copy of a slice from a DataFrame.\n",
            "Try using .loc[row_indexer,col_indexer] = value instead\n",
            "\n",
            "See the caveats in the documentation: https://pandas.pydata.org/pandas-docs/stable/user_guide/indexing.html#returning-a-view-versus-a-copy\n",
            "  df1['Body1']= df1['Body1'].str.split()\n"
          ]
        },
        {
          "data": {
            "text/plain": [
              "0    [has, anyone, got, experience, creating, sqlba...\n",
              "1    [i, have, a, little, game, written, in, c, it,...\n",
              "2    [i, am, working, on, a, collection, of, classe...\n",
              "3    [ive, been, writing, a, few, web, services, fo...\n",
              "4    [i, would, like, the, version, property, of, m...\n",
              "Name: Body1, dtype: object"
            ]
          },
          "execution_count": 83,
          "metadata": {},
          "output_type": "execute_result"
        }
      ],
      "source": [
        "df1['Body1']= df1['Body1'].apply(remove_punctuation)\n",
        "df1['Body1']=df1['Body1'].str.lower()\n",
        "df1['Body1']= df1['Body1'].str.split()\n",
        "df1['Body1'].head()"
      ]
    },
    {
      "cell_type": "markdown",
      "metadata": {
        "id": "kQ44suutKIDy"
      },
      "source": [
        "#### LEMMATIZATION"
      ]
    },
    {
      "cell_type": "code",
      "execution_count": null,
      "metadata": {
        "colab": {
          "base_uri": "https://localhost:8080/"
        },
        "id": "G4AEoyjxKIDy",
        "outputId": "01881526-fd90-49ea-a83c-cda42c6791ac",
        "trusted": true
      },
      "outputs": [
        {
          "name": "stderr",
          "output_type": "stream",
          "text": [
            "[nltk_data] Downloading package wordnet to\n",
            "[nltk_data]     C:\\Users\\Arihant\\AppData\\Roaming\\nltk_data...\n",
            "[nltk_data]   Package wordnet is already up-to-date!\n",
            "[nltk_data] Downloading package omw-1.4 to\n",
            "[nltk_data]     C:\\Users\\Arihant\\AppData\\Roaming\\nltk_data...\n",
            "[nltk_data]   Package omw-1.4 is already up-to-date!\n"
          ]
        }
      ],
      "source": [
        "from nltk.stem import WordNetLemmatizer\n",
        "nltk.download('wordnet')\n",
        "nltk.download('omw-1.4')\n",
        "lematizer= WordNetLemmatizer()\n",
        "\n",
        "def word_lemmatizer(text):\n",
        "    lem_text=[lematizer.lemmatize(i) for i in text]\n",
        "    return lem_text"
      ]
    },
    {
      "cell_type": "code",
      "execution_count": null,
      "metadata": {
        "colab": {
          "base_uri": "https://localhost:8080/"
        },
        "id": "OZIsgO2pKIDz",
        "outputId": "4dd72d0b-501b-4bd1-c270-5668f6f0bcf3",
        "trusted": true
      },
      "outputs": [
        {
          "name": "stderr",
          "output_type": "stream",
          "text": [
            "C:\\Users\\Arihant\\AppData\\Local\\Temp\\ipykernel_17152\\1484448558.py:1: SettingWithCopyWarning: \n",
            "A value is trying to be set on a copy of a slice from a DataFrame.\n",
            "Try using .loc[row_indexer,col_indexer] = value instead\n",
            "\n",
            "See the caveats in the documentation: https://pandas.pydata.org/pandas-docs/stable/user_guide/indexing.html#returning-a-view-versus-a-copy\n",
            "  df1['Title1']= df1['Title1'].apply(lambda x: word_lemmatizer(x))\n"
          ]
        }
      ],
      "source": [
        "df1['Title1']= df1['Title1'].apply(lambda x: word_lemmatizer(x))"
      ]
    },
    {
      "cell_type": "code",
      "execution_count": null,
      "metadata": {
        "colab": {
          "base_uri": "https://localhost:8080/"
        },
        "id": "s1ACMcDyKIDz",
        "outputId": "63ecb6b5-9292-44a1-f0fa-3a9533e3ba8b",
        "trusted": true
      },
      "outputs": [
        {
          "name": "stderr",
          "output_type": "stream",
          "text": [
            "C:\\Users\\Arihant\\AppData\\Local\\Temp\\ipykernel_17152\\1860479539.py:1: SettingWithCopyWarning: \n",
            "A value is trying to be set on a copy of a slice from a DataFrame.\n",
            "Try using .loc[row_indexer,col_indexer] = value instead\n",
            "\n",
            "See the caveats in the documentation: https://pandas.pydata.org/pandas-docs/stable/user_guide/indexing.html#returning-a-view-versus-a-copy\n",
            "  df1['Body1']= df1['Body1'].apply(lambda x: word_lemmatizer(x))\n"
          ]
        }
      ],
      "source": [
        "df1['Body1']= df1['Body1'].apply(lambda x: word_lemmatizer(x))"
      ]
    },
    {
      "cell_type": "markdown",
      "metadata": {
        "id": "4XZemsEVKIDz"
      },
      "source": [
        "#### STOPWORD REMOVAL"
      ]
    },
    {
      "cell_type": "code",
      "execution_count": null,
      "metadata": {
        "colab": {
          "base_uri": "https://localhost:8080/"
        },
        "id": "xBSSBhq0SFnD",
        "outputId": "0ff73190-1339-48c8-9629-c270a1bd5ed4"
      },
      "outputs": [
        {
          "name": "stderr",
          "output_type": "stream",
          "text": [
            "[nltk_data] Downloading package stopwords to\n",
            "[nltk_data]     C:\\Users\\Arihant\\AppData\\Roaming\\nltk_data...\n",
            "[nltk_data]   Package stopwords is already up-to-date!\n"
          ]
        }
      ],
      "source": [
        "nltk.download('stopwords')\n",
        "from nltk.corpus import stopwords\n",
        "stopwords=stopwords.words('english')"
      ]
    },
    {
      "cell_type": "code",
      "execution_count": null,
      "metadata": {
        "colab": {
          "base_uri": "https://localhost:8080/"
        },
        "id": "OXmZgnImpKEq",
        "outputId": "b623f786-8787-44cd-afcc-84553fd135dc"
      },
      "outputs": [
        {
          "name": "stderr",
          "output_type": "stream",
          "text": [
            "C:\\Users\\Arihant\\AppData\\Local\\Temp\\ipykernel_17152\\584209584.py:1: SettingWithCopyWarning: \n",
            "A value is trying to be set on a copy of a slice from a DataFrame.\n",
            "Try using .loc[row_indexer,col_indexer] = value instead\n",
            "\n",
            "See the caveats in the documentation: https://pandas.pydata.org/pandas-docs/stable/user_guide/indexing.html#returning-a-view-versus-a-copy\n",
            "  df1['Body1']=df1['Body1'].apply(lambda x: \" \".join([w for w in x if w not in stopwords]))\n"
          ]
        },
        {
          "data": {
            "text/plain": [
              "0    ha anyone got experience creating sqlbased asp...\n",
              "1    little game written c us database backend trad...\n",
              "2    working collection class used video playback r...\n",
              "3    ive writing web service net app im ready consu...\n",
              "4    would like version property application increm...\n",
              "Name: Body1, dtype: object"
            ]
          },
          "execution_count": 88,
          "metadata": {},
          "output_type": "execute_result"
        }
      ],
      "source": [
        "df1['Body1']=df1['Body1'].apply(lambda x: \" \".join([w for w in x if w not in stopwords]))\n",
        "df1['Body1'].head(5)"
      ]
    },
    {
      "cell_type": "code",
      "execution_count": null,
      "metadata": {
        "colab": {
          "base_uri": "https://localhost:8080/"
        },
        "id": "TinJ0v4_pJwm",
        "outputId": "31ce71b4-4a10-4871-ae22-7cb64d8d28d6"
      },
      "outputs": [
        {
          "name": "stderr",
          "output_type": "stream",
          "text": [
            "C:\\Users\\Arihant\\AppData\\Local\\Temp\\ipykernel_17152\\1014082726.py:1: SettingWithCopyWarning: \n",
            "A value is trying to be set on a copy of a slice from a DataFrame.\n",
            "Try using .loc[row_indexer,col_indexer] = value instead\n",
            "\n",
            "See the caveats in the documentation: https://pandas.pydata.org/pandas-docs/stable/user_guide/indexing.html#returning-a-view-versus-a-copy\n",
            "  df1['Title1']=df1['Title1'].apply(lambda x: \" \".join([w for w in x if w not in stopwords]))\n"
          ]
        },
        {
          "data": {
            "text/plain": [
              "0                                   aspnet site map\n",
              "1    adding scripting functionality net application\n",
              "2                             use nested class case\n",
              "3                 homegrown consumption web service\n",
              "4               automatically update version number\n",
              "Name: Title1, dtype: object"
            ]
          },
          "execution_count": 89,
          "metadata": {},
          "output_type": "execute_result"
        }
      ],
      "source": [
        "df1['Title1']=df1['Title1'].apply(lambda x: \" \".join([w for w in x if w not in stopwords]))\n",
        "df1['Title1'].head(5)"
      ]
    },
    {
      "cell_type": "markdown",
      "metadata": {
        "id": "AaqgndmMKID0"
      },
      "source": [
        "### FINAL DATAFRAME AFTER TEXT CLEANING"
      ]
    },
    {
      "cell_type": "code",
      "execution_count": null,
      "metadata": {
        "colab": {
          "base_uri": "https://localhost:8080/",
          "height": 206
        },
        "id": "m5CIUr2WKID0",
        "outputId": "6c0b554e-efb1-4d1f-fe46-8be6a8041611",
        "trusted": true
      },
      "outputs": [
        {
          "data": {
            "text/html": [
              "<div>\n",
              "<style scoped>\n",
              "    .dataframe tbody tr th:only-of-type {\n",
              "        vertical-align: middle;\n",
              "    }\n",
              "\n",
              "    .dataframe tbody tr th {\n",
              "        vertical-align: top;\n",
              "    }\n",
              "\n",
              "    .dataframe thead th {\n",
              "        text-align: right;\n",
              "    }\n",
              "</style>\n",
              "<table border=\"1\" class=\"dataframe\">\n",
              "  <thead>\n",
              "    <tr style=\"text-align: right;\">\n",
              "      <th></th>\n",
              "      <th>Tag</th>\n",
              "      <th>Title1</th>\n",
              "      <th>Body1</th>\n",
              "    </tr>\n",
              "  </thead>\n",
              "  <tbody>\n",
              "    <tr>\n",
              "      <th>0</th>\n",
              "      <td>[sql, asp.net]</td>\n",
              "      <td>aspnet site map</td>\n",
              "      <td>ha anyone got experience creating sqlbased asp...</td>\n",
              "    </tr>\n",
              "    <tr>\n",
              "      <th>1</th>\n",
              "      <td>[c#, .net]</td>\n",
              "      <td>adding scripting functionality net application</td>\n",
              "      <td>little game written c us database backend trad...</td>\n",
              "    </tr>\n",
              "    <tr>\n",
              "      <th>2</th>\n",
              "      <td>[c++]</td>\n",
              "      <td>use nested class case</td>\n",
              "      <td>working collection class used video playback r...</td>\n",
              "    </tr>\n",
              "    <tr>\n",
              "      <th>3</th>\n",
              "      <td>[.net]</td>\n",
              "      <td>homegrown consumption web service</td>\n",
              "      <td>ive writing web service net app im ready consu...</td>\n",
              "    </tr>\n",
              "    <tr>\n",
              "      <th>4</th>\n",
              "      <td>[c#]</td>\n",
              "      <td>automatically update version number</td>\n",
              "      <td>would like version property application increm...</td>\n",
              "    </tr>\n",
              "  </tbody>\n",
              "</table>\n",
              "</div>"
            ],
            "text/plain": [
              "              Tag                                          Title1  \\\n",
              "0  [sql, asp.net]                                 aspnet site map   \n",
              "1      [c#, .net]  adding scripting functionality net application   \n",
              "2           [c++]                           use nested class case   \n",
              "3          [.net]               homegrown consumption web service   \n",
              "4            [c#]             automatically update version number   \n",
              "\n",
              "                                               Body1  \n",
              "0  ha anyone got experience creating sqlbased asp...  \n",
              "1  little game written c us database backend trad...  \n",
              "2  working collection class used video playback r...  \n",
              "3  ive writing web service net app im ready consu...  \n",
              "4  would like version property application increm...  "
            ]
          },
          "execution_count": 90,
          "metadata": {},
          "output_type": "execute_result"
        }
      ],
      "source": [
        "df1= df1.drop(['Title', 'Body','Score'],axis=1)\n",
        "df1.head()"
      ]
    },
    {
      "cell_type": "markdown",
      "metadata": {
        "id": "hFWi8UUfKID1"
      },
      "source": [
        "### TF-IDF VECTORIZATION"
      ]
    },
    {
      "cell_type": "code",
      "execution_count": null,
      "metadata": {
        "id": "QU7dMoxuKID1",
        "trusted": true
      },
      "outputs": [],
      "source": [
        "from sklearn.feature_extraction.text import TfidfVectorizer\n",
        "\n",
        "df1['Title1']= df1['Title1'].astype(str)\n",
        "vectorizer = TfidfVectorizer()\n",
        "X1 = vectorizer.fit_transform(df1['Title1'].str.lower())"
      ]
    },
    {
      "cell_type": "code",
      "execution_count": null,
      "metadata": {
        "id": "T9X3Sy-nKID1",
        "trusted": true
      },
      "outputs": [],
      "source": [
        "df1['Body1']= df1['Body1'].astype(str)\n",
        "vectorizer = TfidfVectorizer()\n",
        "X2 = vectorizer.fit_transform(df1['Body1'].str.lower())"
      ]
    },
    {
      "cell_type": "markdown",
      "metadata": {
        "id": "cGFxbzOSKID1"
      },
      "source": [
        "### CHANGING CATEGORICAL VARIABLES INTO NUMERIC"
      ]
    },
    {
      "cell_type": "code",
      "execution_count": null,
      "metadata": {
        "id": "8kQIG9rwKID1",
        "trusted": true
      },
      "outputs": [],
      "source": [
        "# from sklearn.preprocessing import LabelEncoder\n",
        "# le= LabelEncoder()\n",
        "# df1['Tags']= le.fit_transform(df1['Tags'])"
      ]
    },
    {
      "cell_type": "code",
      "execution_count": null,
      "metadata": {
        "id": "THRD058PYdB3"
      },
      "outputs": [],
      "source": [
        "from sklearn.preprocessing import MultiLabelBinarizer"
      ]
    },
    {
      "cell_type": "code",
      "execution_count": null,
      "metadata": {
        "id": "niUhw8oFYrZP"
      },
      "outputs": [],
      "source": [
        "multilabel= MultiLabelBinarizer()"
      ]
    },
    {
      "cell_type": "code",
      "execution_count": null,
      "metadata": {
        "id": "AY_ptcnwY1mD"
      },
      "outputs": [],
      "source": [
        "y= multilabel.fit_transform(df1['Tag'])"
      ]
    },
    {
      "cell_type": "code",
      "execution_count": null,
      "metadata": {
        "colab": {
          "base_uri": "https://localhost:8080/"
        },
        "id": "OKFi0N8F__pl",
        "outputId": "dfeeac41-438b-4031-ecc4-55323a606725"
      },
      "outputs": [
        {
          "data": {
            "text/plain": [
              "0         [sql, asp.net]\n",
              "1             [c#, .net]\n",
              "2                  [c++]\n",
              "3                 [.net]\n",
              "4                   [c#]\n",
              "               ...      \n",
              "849386             [c++]\n",
              "849833             [c++]\n",
              "850049             [c++]\n",
              "850201          [python]\n",
              "850289          [python]\n",
              "Name: Tag, Length: 39714, dtype: object"
            ]
          },
          "execution_count": 97,
          "metadata": {},
          "output_type": "execute_result"
        }
      ],
      "source": [
        "df1['Tag']"
      ]
    },
    {
      "cell_type": "code",
      "execution_count": null,
      "metadata": {
        "colab": {
          "base_uri": "https://localhost:8080/"
        },
        "id": "kHGcCB3TRS2K",
        "outputId": "caf4d07d-a869-40fc-9dbd-1ca48b435a34"
      },
      "outputs": [
        {
          "data": {
            "text/plain": [
              "array([[0, 0, 0, ..., 0, 0, 1],\n",
              "       [1, 0, 0, ..., 0, 0, 0],\n",
              "       [0, 0, 0, ..., 0, 0, 0],\n",
              "       ...,\n",
              "       [0, 0, 0, ..., 0, 0, 0],\n",
              "       [0, 0, 0, ..., 1, 0, 0],\n",
              "       [0, 0, 0, ..., 1, 0, 0]])"
            ]
          },
          "execution_count": 98,
          "metadata": {},
          "output_type": "execute_result"
        }
      ],
      "source": [
        "y"
      ]
    },
    {
      "cell_type": "markdown",
      "metadata": {
        "id": "VCvXxVy7KID2"
      },
      "source": [
        "### SPLITTING THE DATASET INTO TRAIN AND TEST SET"
      ]
    },
    {
      "cell_type": "code",
      "execution_count": null,
      "metadata": {
        "colab": {
          "base_uri": "https://localhost:8080/"
        },
        "id": "Tztn1Xpa7WjF",
        "outputId": "8f214c02-504f-4d44-8af9-e381d415a592"
      },
      "outputs": [
        {
          "data": {
            "text/plain": [
              "(39714, 20)"
            ]
          },
          "execution_count": 99,
          "metadata": {},
          "output_type": "execute_result"
        }
      ],
      "source": [
        "y.shape"
      ]
    },
    {
      "cell_type": "code",
      "execution_count": null,
      "metadata": {
        "colab": {
          "base_uri": "https://localhost:8080/"
        },
        "id": "bJXx0QGOKID2",
        "outputId": "5b12aa76-19c4-440a-e631-d0928ab6d582",
        "trusted": true
      },
      "outputs": [
        {
          "name": "stdout",
          "output_type": "stream",
          "text": [
            "(27799, 336071) (11915, 336071) (27799, 20) (11915, 20)\n"
          ]
        }
      ],
      "source": [
        "from sklearn.model_selection import train_test_split\n",
        "\n",
        "x_train, x_test, y_train, y_test = train_test_split(X2, y, test_size=0.30, random_state=42)\n",
        "print(x_train.shape, x_test.shape, y_train.shape, y_test.shape)"
      ]
    },
    {
      "cell_type": "markdown",
      "metadata": {
        "id": "lMxsJdnAKID2"
      },
      "source": [
        "### APPLYING DIFFERENT ALGORITHMS"
      ]
    },
    {
      "cell_type": "code",
      "execution_count": null,
      "metadata": {
        "id": "W7sqBqDblwAa",
        "outputId": "11919784-c267-4bc2-8239-aaa5582603af"
      },
      "outputs": [
        {
          "name": "stdout",
          "output_type": "stream",
          "text": [
            "Requirement already satisfied: xgboost in c:\\users\\arihant\\appdata\\local\\programs\\python\\python310\\lib\\site-packages (1.6.2)\n",
            "Requirement already satisfied: scipy in c:\\users\\arihant\\appdata\\local\\programs\\python\\python310\\lib\\site-packages (from xgboost) (1.9.0)\n",
            "Requirement already satisfied: numpy in c:\\users\\arihant\\appdata\\local\\programs\\python\\python310\\lib\\site-packages (from xgboost) (1.23.1)\n"
          ]
        }
      ],
      "source": [
        "!pip install xgboost"
      ]
    },
    {
      "cell_type": "code",
      "execution_count": null,
      "metadata": {
        "id": "Mfp5FCzaKID3",
        "trusted": true
      },
      "outputs": [],
      "source": [
        "from sklearn.linear_model import LogisticRegression\n",
        "from xgboost import XGBClassifier\n",
        "from sklearn.naive_bayes import MultinomialNB\n",
        "from sklearn.neighbors import KNeighborsClassifier\n",
        "from sklearn.ensemble import RandomForestClassifier"
      ]
    },
    {
      "cell_type": "code",
      "execution_count": null,
      "metadata": {
        "colab": {
          "base_uri": "https://localhost:8080/"
        },
        "id": "DC_VxFO_KID3",
        "outputId": "c85516d2-8af6-4767-81f2-989cf3fd3624",
        "trusted": true
      },
      "outputs": [
        {
          "name": "stderr",
          "output_type": "stream",
          "text": [
            "c:\\Users\\Arihant\\AppData\\Local\\Programs\\Python\\Python310\\lib\\site-packages\\sklearn\\linear_model\\_logistic.py:444: ConvergenceWarning: lbfgs failed to converge (status=1):\n",
            "STOP: TOTAL NO. of ITERATIONS REACHED LIMIT.\n",
            "\n",
            "Increase the number of iterations (max_iter) or scale the data as shown in:\n",
            "    https://scikit-learn.org/stable/modules/preprocessing.html\n",
            "Please also refer to the documentation for alternative solver options:\n",
            "    https://scikit-learn.org/stable/modules/linear_model.html#logistic-regression\n",
            "  n_iter_i = _check_optimize_result(\n",
            "c:\\Users\\Arihant\\AppData\\Local\\Programs\\Python\\Python310\\lib\\site-packages\\sklearn\\linear_model\\_logistic.py:444: ConvergenceWarning: lbfgs failed to converge (status=1):\n",
            "STOP: TOTAL NO. of ITERATIONS REACHED LIMIT.\n",
            "\n",
            "Increase the number of iterations (max_iter) or scale the data as shown in:\n",
            "    https://scikit-learn.org/stable/modules/preprocessing.html\n",
            "Please also refer to the documentation for alternative solver options:\n",
            "    https://scikit-learn.org/stable/modules/linear_model.html#logistic-regression\n",
            "  n_iter_i = _check_optimize_result(\n"
          ]
        }
      ],
      "source": [
        "lr = LogisticRegression(C=20)\n",
        "\n",
        "# Creating the model on Training Data\n",
        "\n",
        "from sklearn.multiclass import OneVsRestClassifier\n",
        "clf = OneVsRestClassifier(lr)\n",
        "model=clf.fit(x_train,y_train)\n",
        "prediction=model.predict(x_test)\n",
        "# Printing the Overall Accuracy of the model\n",
        "from sklearn import metrics\n",
        "print(metrics.multilabel_confusion_matrix(y_test, prediction))\n",
        "F1_Score=metrics.classification_report(y_test, prediction).split()[-2]\n",
        "print('Accuracy of the model:', F1_Score)"
      ]
    },
    {
      "cell_type": "code",
      "execution_count": null,
      "metadata": {
        "id": "Ss6mPpHfKID3",
        "trusted": true,
        "outputId": "6940a1dd-5d17-4fc0-e031-0b2a2369f11b"
      },
      "outputs": [
        {
          "name": "stdout",
          "output_type": "stream",
          "text": [
            "[[[11197    14]\n",
            "  [  661    43]]\n",
            "\n",
            " [[10627    20]\n",
            "  [  418   850]]\n",
            "\n",
            " [[11687     3]\n",
            "  [  135    90]]\n",
            "\n",
            " [[11585    19]\n",
            "  [  258    53]]\n",
            "\n",
            " [[11468     7]\n",
            "  [  407    33]]\n",
            "\n",
            " [[10096    75]\n",
            "  [ 1329   415]]\n",
            "\n",
            " [[10843    49]\n",
            "  [  606   417]]\n",
            "\n",
            " [[11411    30]\n",
            "  [  212   262]]\n",
            "\n",
            " [[11395    15]\n",
            "  [  454    51]]\n",
            "\n",
            " [[11225    71]\n",
            "  [  404   215]]\n",
            "\n",
            " [[11489    12]\n",
            "  [  363    51]]\n",
            "\n",
            " [[10182    61]\n",
            "  [  852   820]]\n",
            "\n",
            " [[10445   136]\n",
            "  [  735   599]]\n",
            "\n",
            " [[11212    47]\n",
            "  [  377   279]]\n",
            "\n",
            " [[11584     7]\n",
            "  [  186   138]]\n",
            "\n",
            " [[11483     6]\n",
            "  [  380    46]]\n",
            "\n",
            " [[11161    24]\n",
            "  [  420   310]]\n",
            "\n",
            " [[10812    21]\n",
            "  [  410   672]]\n",
            "\n",
            " [[11503     6]\n",
            "  [  178   228]]\n",
            "\n",
            " [[11545    31]\n",
            "  [  235   104]]]\n",
            "Accuracy of the model: 0.43\n"
          ]
        },
        {
          "name": "stderr",
          "output_type": "stream",
          "text": [
            "c:\\Users\\Arihant\\AppData\\Local\\Programs\\Python\\Python310\\lib\\site-packages\\sklearn\\metrics\\_classification.py:1334: UndefinedMetricWarning: Precision and F-score are ill-defined and being set to 0.0 in samples with no predicted labels. Use `zero_division` parameter to control this behavior.\n",
            "  _warn_prf(average, modifier, msg_start, len(result))\n"
          ]
        }
      ],
      "source": [
        "from sklearn.linear_model import SGDClassifier\n",
        "from sklearn import metrics\n",
        "sgd = SGDClassifier()\n",
        "from sklearn.multiclass import OneVsRestClassifier\n",
        "clf = OneVsRestClassifier(sgd)\n",
        "clf.fit(x_train, y_train)\n",
        "y_pred = clf.predict(x_test)\n",
        "print(metrics.multilabel_confusion_matrix(y_test, y_pred))\n",
        "F1_Score=metrics.classification_report(y_test, y_pred).split()[-2]\n",
        "print('Accuracy of the model:', F1_Score)"
      ]
    },
    {
      "cell_type": "code",
      "execution_count": null,
      "metadata": {
        "id": "ZEUFYSlL6up8",
        "outputId": "9f3f9206-8ed3-4831-ba47-78c0faa9afe8"
      },
      "outputs": [
        {
          "name": "stdout",
          "output_type": "stream",
          "text": [
            "Accuracy of the model: 0.55\n"
          ]
        },
        {
          "name": "stderr",
          "output_type": "stream",
          "text": [
            "c:\\Users\\Arihant\\AppData\\Local\\Programs\\Python\\Python310\\lib\\site-packages\\sklearn\\metrics\\_classification.py:1334: UndefinedMetricWarning: Precision and F-score are ill-defined and being set to 0.0 in samples with no predicted labels. Use `zero_division` parameter to control this behavior.\n",
            "  _warn_prf(average, modifier, msg_start, len(result))\n"
          ]
        }
      ],
      "source": [
        "from sklearn.svm import LinearSVC\n",
        "sv= LinearSVC()\n",
        "from sklearn.multiclass import OneVsRestClassifier\n",
        "clf = OneVsRestClassifier(sv)\n",
        "model = clf.fit(x_train,y_train)\n",
        "y_pred= model.predict(x_test)\n",
        "F1_Score=metrics.classification_report(y_test, y_pred).split()[-2]\n",
        "print('Accuracy of the model:', F1_Score)\n"
      ]
    },
    {
      "cell_type": "markdown",
      "metadata": {
        "id": "W-VT-4JGTZO1"
      },
      "source": [
        "Implementation of model"
      ]
    },
    {
      "cell_type": "code",
      "execution_count": null,
      "metadata": {
        "id": "9Ne29uaIKID5",
        "trusted": true,
        "outputId": "f163c79a-f6e7-4458-d77d-36cb97827032"
      },
      "outputs": [
        {
          "data": {
            "text/plain": [
              "[('python',)]"
            ]
          },
          "execution_count": 117,
          "metadata": {},
          "output_type": "execute_result"
        }
      ],
      "source": [
        "x = [ 'how to write ml code in python and java i have data but do not know how to do it']\n",
        "xt = vectorizer.transform(x)\n",
        "clf.predict(xt)\n",
        "multilabel.inverse_transform(clf.predict(xt))"
      ]
    },
    {
      "cell_type": "code",
      "execution_count": null,
      "metadata": {
        "id": "srcFAnBcQKIE",
        "outputId": "91db0ff6-3093-4a58-8114-eb5b9bd3fa7f"
      },
      "outputs": [
        {
          "data": {
            "text/plain": [
              "[('java', 'javascript')]"
            ]
          },
          "execution_count": 116,
          "metadata": {},
          "output_type": "execute_result"
        }
      ],
      "source": [
        "x = ['which is better java, c++ or javascript.']\n",
        "xt = vectorizer.transform(x)\n",
        "clf.predict(xt)\n",
        "multilabel.inverse_transform(clf.predict(xt))"
      ]
    },
    {
      "cell_type": "code",
      "execution_count": null,
      "metadata": {
        "id": "Sch9gU-ElwAb",
        "outputId": "a75f5afe-4373-4f50-b602-059c49c6d85e"
      },
      "outputs": [
        {
          "data": {
            "text/plain": [
              "[('python',)]"
            ]
          },
          "execution_count": 115,
          "metadata": {},
          "output_type": "execute_result"
        }
      ],
      "source": [
        "x = ['how to implement sql queries in python']\n",
        "xt = vectorizer.transform(x)\n",
        "clf.predict(xt)\n",
        "multilabel.inverse_transform(clf.predict(xt))"
      ]
    }
  ],
  "metadata": {
    "accelerator": "GPU",
    "colab": {
      "provenance": [],
      "include_colab_link": true
    },
    "gpuClass": "standard",
    "kernelspec": {
      "display_name": "Python 3.10.5 64-bit",
      "language": "python",
      "name": "python3"
    },
    "language_info": {
      "codemirror_mode": {
        "name": "ipython",
        "version": 3
      },
      "file_extension": ".py",
      "mimetype": "text/x-python",
      "name": "python",
      "nbconvert_exporter": "python",
      "pygments_lexer": "ipython3",
      "version": "3.10.5"
    },
    "vscode": {
      "interpreter": {
        "hash": "16237b9fa0e9652ef6bee975187dbada13041abc9ffbc37248b845c078a1905b"
      }
    }
  },
  "nbformat": 4,
  "nbformat_minor": 0
}